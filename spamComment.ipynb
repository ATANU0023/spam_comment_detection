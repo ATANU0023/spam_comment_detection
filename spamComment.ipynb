{
  "nbformat": 4,
  "nbformat_minor": 0,
  "metadata": {
    "colab": {
      "provenance": [],
      "authorship_tag": "ABX9TyPQHbPeZjTzkgu0dJi7EHbg",
      "include_colab_link": true
    },
    "kernelspec": {
      "name": "python3",
      "display_name": "Python 3"
    },
    "language_info": {
      "name": "python"
    }
  },
  "cells": [
    {
      "cell_type": "markdown",
      "metadata": {
        "id": "view-in-github",
        "colab_type": "text"
      },
      "source": [
        "<a href=\"https://colab.research.google.com/github/ATANU0023/spam_comment_detection/blob/main/spamComment.ipynb\" target=\"_parent\"><img src=\"https://colab.research.google.com/assets/colab-badge.svg\" alt=\"Open In Colab\"/></a>"
      ]
    },
    {
      "cell_type": "code",
      "source": [
        "import numpy as np\n",
        "import pandas as pd\n",
        "import tensorflow as tf\n",
        "from tensorflow.keras import layers, models, preprocessing, Sequential\n",
        "from sklearn.model_selection import train_test_split\n",
        "from sklearn.preprocessing import LabelEncoder"
      ],
      "metadata": {
        "id": "_r9TYDr57NRI"
      },
      "execution_count": 1,
      "outputs": []
    },
    {
      "cell_type": "markdown",
      "source": [
        "#  Load and preprocess the data"
      ],
      "metadata": {
        "id": "ATWd_XYOH-SU"
      }
    },
    {
      "cell_type": "code",
      "source": [
        "\n",
        "data = pd.read_csv('/content/Youtube-Spam-Dataset.csv')  # Load your dataset\n",
        "comments = data['CONTENT']  # Use the 'CONTENT' column as input\n",
        "labels = data['CLASS']  # Use the 'CLASS' column as labels"
      ],
      "metadata": {
        "id": "zJg8vG6d7NNp"
      },
      "execution_count": 7,
      "outputs": []
    },
    {
      "cell_type": "markdown",
      "source": [
        "#  Tokenize and pad the sequences (for comments)"
      ],
      "metadata": {
        "id": "J6uVpSmjH2_U"
      }
    },
    {
      "cell_type": "code",
      "source": [
        "\n",
        "tokenizer = preprocessing.text.Tokenizer(num_words=5000, oov_token='<OOV>')\n",
        "tokenizer.fit_on_texts(comments)\n",
        "sequences = tokenizer.texts_to_sequences(comments)\n",
        "padded_sequences = preprocessing.sequence.pad_sequences(sequences, padding='post', maxlen=100)"
      ],
      "metadata": {
        "id": "R0ECMNNW7NLR"
      },
      "execution_count": 8,
      "outputs": []
    },
    {
      "cell_type": "markdown",
      "source": [
        "#  Encode the labels (assuming 'CLASS' is binary; 0 for non-spam, 1 for spam)"
      ],
      "metadata": {
        "id": "y0t_KE-fHu1A"
      }
    },
    {
      "cell_type": "code",
      "source": [
        "\n",
        "label_encoder = LabelEncoder()\n",
        "labels = label_encoder.fit_transform(labels)"
      ],
      "metadata": {
        "id": "dzfbA67n7NI5"
      },
      "execution_count": 9,
      "outputs": []
    },
    {
      "cell_type": "markdown",
      "source": [
        "#  Train-test split"
      ],
      "metadata": {
        "id": "lHwqzrTVDlo9"
      }
    },
    {
      "cell_type": "code",
      "source": [
        "X_train, X_test, y_train, y_test = train_test_split(padded_sequences, labels, test_size=0.2, random_state=42)"
      ],
      "metadata": {
        "id": "3C3Wr5nO7NF2"
      },
      "execution_count": 10,
      "outputs": []
    },
    {
      "cell_type": "markdown",
      "source": [
        "#  Build the model"
      ],
      "metadata": {
        "id": "ijNMX5mWDOTe"
      }
    },
    {
      "cell_type": "code",
      "source": [
        "\n",
        "model = Sequential([\n",
        "    layers.Embedding(input_dim=5000, output_dim=32, input_length=100),\n",
        "    layers.Conv1D(128, 5, activation='relu'),\n",
        "    layers.GlobalMaxPooling1D(),\n",
        "    layers.Dense(64, activation='relu'),\n",
        "    layers.Dropout(0.5),\n",
        "    layers.Dense(1, activation='sigmoid')  # Sigmoid for binary classification (spam or not spam)\n",
        "])"
      ],
      "metadata": {
        "colab": {
          "base_uri": "https://localhost:8080/"
        },
        "id": "WaJRYkUm7NBz",
        "outputId": "db46ba62-852d-4818-b94b-23f6ef9a3c69"
      },
      "execution_count": 11,
      "outputs": [
        {
          "output_type": "stream",
          "name": "stderr",
          "text": [
            "/usr/local/lib/python3.10/dist-packages/keras/src/layers/core/embedding.py:90: UserWarning: Argument `input_length` is deprecated. Just remove it.\n",
            "  warnings.warn(\n"
          ]
        }
      ]
    },
    {
      "cell_type": "markdown",
      "source": [
        "#  Compile the model"
      ],
      "metadata": {
        "id": "vmTAyjaDDId_"
      }
    },
    {
      "cell_type": "code",
      "source": [
        "model.compile(optimizer='adam', loss='binary_crossentropy', metrics=['accuracy'])"
      ],
      "metadata": {
        "id": "ST8aOb3N7M_X"
      },
      "execution_count": 12,
      "outputs": []
    },
    {
      "cell_type": "markdown",
      "source": [
        "#  Train the model"
      ],
      "metadata": {
        "id": "1qH33c87CoGv"
      }
    },
    {
      "cell_type": "code",
      "source": [
        "\n",
        "history = model.fit(X_train, y_train, epochs=10, batch_size=32, validation_data=(X_test, y_test))"
      ],
      "metadata": {
        "colab": {
          "base_uri": "https://localhost:8080/"
        },
        "id": "Lu_6wAo97M8N",
        "outputId": "4f4be0a0-2ade-4659-e7a9-be85221146b4"
      },
      "execution_count": 13,
      "outputs": [
        {
          "output_type": "stream",
          "name": "stdout",
          "text": [
            "Epoch 1/10\n",
            "\u001b[1m49/49\u001b[0m \u001b[32m━━━━━━━━━━━━━━━━━━━━\u001b[0m\u001b[37m\u001b[0m \u001b[1m3s\u001b[0m 21ms/step - accuracy: 0.6433 - loss: 0.6667 - val_accuracy: 0.8495 - val_loss: 0.4390\n",
            "Epoch 2/10\n",
            "\u001b[1m49/49\u001b[0m \u001b[32m━━━━━━━━━━━━━━━━━━━━\u001b[0m\u001b[37m\u001b[0m \u001b[1m1s\u001b[0m 16ms/step - accuracy: 0.8835 - loss: 0.3412 - val_accuracy: 0.9286 - val_loss: 0.1825\n",
            "Epoch 3/10\n",
            "\u001b[1m49/49\u001b[0m \u001b[32m━━━━━━━━━━━━━━━━━━━━\u001b[0m\u001b[37m\u001b[0m \u001b[1m1s\u001b[0m 17ms/step - accuracy: 0.9620 - loss: 0.1264 - val_accuracy: 0.9439 - val_loss: 0.1451\n",
            "Epoch 4/10\n",
            "\u001b[1m49/49\u001b[0m \u001b[32m━━━━━━━━━━━━━━━━━━━━\u001b[0m\u001b[37m\u001b[0m \u001b[1m1s\u001b[0m 17ms/step - accuracy: 0.9881 - loss: 0.0639 - val_accuracy: 0.9439 - val_loss: 0.1576\n",
            "Epoch 5/10\n",
            "\u001b[1m49/49\u001b[0m \u001b[32m━━━━━━━━━━━━━━━━━━━━\u001b[0m\u001b[37m\u001b[0m \u001b[1m1s\u001b[0m 18ms/step - accuracy: 0.9962 - loss: 0.0304 - val_accuracy: 0.9413 - val_loss: 0.1572\n",
            "Epoch 6/10\n",
            "\u001b[1m49/49\u001b[0m \u001b[32m━━━━━━━━━━━━━━━━━━━━\u001b[0m\u001b[37m\u001b[0m \u001b[1m1s\u001b[0m 29ms/step - accuracy: 0.9949 - loss: 0.0207 - val_accuracy: 0.9439 - val_loss: 0.1717\n",
            "Epoch 7/10\n",
            "\u001b[1m49/49\u001b[0m \u001b[32m━━━━━━━━━━━━━━━━━━━━\u001b[0m\u001b[37m\u001b[0m \u001b[1m2s\u001b[0m 16ms/step - accuracy: 0.9988 - loss: 0.0095 - val_accuracy: 0.9413 - val_loss: 0.1939\n",
            "Epoch 8/10\n",
            "\u001b[1m49/49\u001b[0m \u001b[32m━━━━━━━━━━━━━━━━━━━━\u001b[0m\u001b[37m\u001b[0m \u001b[1m1s\u001b[0m 16ms/step - accuracy: 1.0000 - loss: 0.0038 - val_accuracy: 0.9439 - val_loss: 0.1930\n",
            "Epoch 9/10\n",
            "\u001b[1m49/49\u001b[0m \u001b[32m━━━━━━━━━━━━━━━━━━━━\u001b[0m\u001b[37m\u001b[0m \u001b[1m1s\u001b[0m 16ms/step - accuracy: 0.9999 - loss: 0.0035 - val_accuracy: 0.9413 - val_loss: 0.2105\n",
            "Epoch 10/10\n",
            "\u001b[1m49/49\u001b[0m \u001b[32m━━━━━━━━━━━━━━━━━━━━\u001b[0m\u001b[37m\u001b[0m \u001b[1m1s\u001b[0m 17ms/step - accuracy: 1.0000 - loss: 0.0021 - val_accuracy: 0.9439 - val_loss: 0.2084\n"
          ]
        }
      ]
    },
    {
      "cell_type": "markdown",
      "source": [
        "#  Evaluate the model\n"
      ],
      "metadata": {
        "id": "0iPy7gJ4Cgyj"
      }
    },
    {
      "cell_type": "code",
      "source": [
        "test_loss, test_acc = model.evaluate(X_test, y_test)\n",
        "print(f\"Test Accuracy: {test_acc}\")"
      ],
      "metadata": {
        "colab": {
          "base_uri": "https://localhost:8080/"
        },
        "id": "orcEwL0l7M5t",
        "outputId": "1295156c-59be-4f87-8e84-03dc237a68e8"
      },
      "execution_count": 14,
      "outputs": [
        {
          "output_type": "stream",
          "name": "stdout",
          "text": [
            "\u001b[1m13/13\u001b[0m \u001b[32m━━━━━━━━━━━━━━━━━━━━\u001b[0m\u001b[37m\u001b[0m \u001b[1m0s\u001b[0m 7ms/step - accuracy: 0.9389 - loss: 0.2328\n",
            "Test Accuracy: 0.9438775777816772\n"
          ]
        }
      ]
    },
    {
      "cell_type": "code",
      "source": [
        "\n",
        "# 9. Add an input section for spam detection\n",
        "while True:\n",
        "    # Accept a comment input from the user\n",
        "    user_comment = input(\"\\nEnter a comment to check (or type 'exit' to quit): \")\n",
        "\n",
        "    # Check if the user wants to exit\n",
        "    if user_comment.lower() == 'exit':\n",
        "        break\n",
        "\n",
        "    # Preprocess the input comment (similar to training data)\n",
        "    user_comment_seq = tokenizer.texts_to_sequences([user_comment])\n",
        "    user_comment_padded = preprocessing.sequence.pad_sequences(user_comment_seq, maxlen=100, padding='post')\n",
        "\n",
        "    # Predict whether it's spam or not\n",
        "    prediction = model.predict(user_comment_padded)\n",
        "\n",
        "    # Output the result\n",
        "    if prediction > 0.5:\n",
        "        print(\"Prediction: Spam\")\n",
        "    else:\n",
        "        print(\"Prediction: Not Spam\")"
      ],
      "metadata": {
        "colab": {
          "base_uri": "https://localhost:8080/"
        },
        "id": "FstAtf9v7M1Y",
        "outputId": "7ca50611-8c5d-434f-8075-0c4050e0e3cc"
      },
      "execution_count": 15,
      "outputs": [
        {
          "name": "stdout",
          "output_type": "stream",
          "text": [
            "\n",
            "Enter a comment to check (or type 'exit' to quit): This is a great product! Prediction\n",
            "\u001b[1m1/1\u001b[0m \u001b[32m━━━━━━━━━━━━━━━━━━━━\u001b[0m\u001b[37m\u001b[0m \u001b[1m0s\u001b[0m 113ms/step\n",
            "Prediction: Not Spam\n",
            "\n",
            "Enter a comment to check (or type 'exit' to quit): Click here to win a free iPhone! Prediction\n",
            "\u001b[1m1/1\u001b[0m \u001b[32m━━━━━━━━━━━━━━━━━━━━\u001b[0m\u001b[37m\u001b[0m \u001b[1m0s\u001b[0m 20ms/step\n",
            "Prediction: Spam\n",
            "\n",
            "Enter a comment to check (or type 'exit' to quit): win a lottery of 1000000\n",
            "\u001b[1m1/1\u001b[0m \u001b[32m━━━━━━━━━━━━━━━━━━━━\u001b[0m\u001b[37m\u001b[0m \u001b[1m0s\u001b[0m 21ms/step\n",
            "Prediction: Not Spam\n",
            "\n",
            "Enter a comment to check (or type 'exit' to quit): Congratulations! You've won a FREE iPhone! Click the link to claim your prize now: [spam-link]. Don’t miss out!\n",
            "\u001b[1m1/1\u001b[0m \u001b[32m━━━━━━━━━━━━━━━━━━━━\u001b[0m\u001b[37m\u001b[0m \u001b[1m0s\u001b[0m 20ms/step\n",
            "Prediction: Spam\n",
            "\n",
            "Enter a comment to check (or type 'exit' to quit): exit\n"
          ]
        }
      ]
    },
    {
      "cell_type": "code",
      "source": [],
      "metadata": {
        "id": "foDsu8te7Myx"
      },
      "execution_count": null,
      "outputs": []
    },
    {
      "cell_type": "code",
      "source": [],
      "metadata": {
        "id": "SPaMEIJZ7Mvm"
      },
      "execution_count": null,
      "outputs": []
    },
    {
      "cell_type": "code",
      "source": [],
      "metadata": {
        "id": "7G7geybr7Msb"
      },
      "execution_count": null,
      "outputs": []
    },
    {
      "cell_type": "code",
      "source": [],
      "metadata": {
        "id": "8TatxbJD7Moc"
      },
      "execution_count": null,
      "outputs": []
    },
    {
      "cell_type": "code",
      "execution_count": null,
      "metadata": {
        "id": "46aPDpOz6_wr"
      },
      "outputs": [],
      "source": []
    }
  ]
}